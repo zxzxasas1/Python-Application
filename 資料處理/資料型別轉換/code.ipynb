{
 "cells": [
  {
   "cell_type": "code",
   "execution_count": null,
   "id": "7fd6e3c8",
   "metadata": {},
   "outputs": [],
   "source": [
    "# 資料型別處理"
   ]
  },
  {
   "cell_type": "code",
   "execution_count": null,
   "id": "caa4c947",
   "metadata": {},
   "outputs": [],
   "source": [
    "# 1. 確認各欄位型別及遺漏值"
   ]
  },
  {
   "cell_type": "code",
   "execution_count": null,
   "id": "b5e1a8f2",
   "metadata": {},
   "outputs": [
    {
     "name": "stdout",
     "output_type": "stream",
     "text": [
      "<class 'pandas.core.frame.DataFrame'>\n",
      "RangeIndex: 5 entries, 0 to 4\n",
      "Data columns (total 3 columns):\n",
      " #   Column  Non-Null Count  Dtype \n",
      "---  ------  --------------  ----- \n",
      " 0   日期      5 non-null      object\n",
      " 1   名稱      5 non-null      object\n",
      " 2   收盤價     5 non-null      int64 \n",
      "dtypes: int64(1), object(2)\n",
      "memory usage: 252.0+ bytes\n"
     ]
    }
   ],
   "source": [
    "# 可以看各欄位的資料型別 , 是否有遺漏值 , 很方便的功能\n",
    "\n",
    "\n",
    "import pandas\n",
    "\n",
    "\n",
    "data_column = [\"日期\",\"名稱\",\"收盤價\"]\n",
    "\n",
    "data_row = [[\"20250801\",\"aaa\",120],[\"20250802\",\"aaa\",130],[\"20250803\",\"aaa\",130],[\"20250804\",\"aaa\",150],[\"20250805\",\"aaa\",160]]\n",
    "\n",
    "dataframe = pandas.DataFrame(data_row,columns=data_column)\n",
    "\n",
    "\n",
    "dataframe.info()\n",
    "\n"
   ]
  },
  {
   "cell_type": "code",
   "execution_count": null,
   "id": "3ca9052c",
   "metadata": {},
   "outputs": [],
   "source": [
    "# 2. 欄位型別基本運作方式"
   ]
  },
  {
   "cell_type": "code",
   "execution_count": null,
   "id": "bbb68c53",
   "metadata": {},
   "outputs": [
    {
     "name": "stdout",
     "output_type": "stream",
     "text": [
      "[['a' '2' '3']\n",
      " ['b' '5' '6']\n",
      " ['c' '8' '9']]\n",
      "<U21\n",
      "int64\n",
      "float64\n"
     ]
    }
   ],
   "source": [
    "import numpy\n",
    "\n",
    "\n",
    "# 基本觀念建立 : \n",
    "\n",
    "\n",
    "# a. numpy : \n",
    "\n",
    "\n",
    "# numpy 本質是 list , 也是可以放數值以外的變數當作元素\n",
    "\n",
    "array_5 = numpy.array([[\"a\",2,3],[\"b\",5,6],[\"c\",8,9]])\n",
    "\n",
    "print(array_5)\n",
    "\n",
    "# 但是只要是混和型 array , 全部元素都會自動轉型成 object 混和型 ( 通常不是純數值 , 而是文字 + 數字 ) 或 str 或 u21 / u32 的文字型別 , 用 dtype 屬性可以檢視\n",
    "\n",
    "# 或者是上面 array_2 檢視結果就可以發現都是字串\n",
    "\n",
    "print(array_5[0:1].dtype)\n",
    "\n",
    "# 數值混和型 array 也會被轉成統一數值型別 , 像這邊 int 都被轉成 float\n",
    "\n",
    "array_6 = numpy.array([1,2,3])\n",
    "\n",
    "array_7 = numpy.array([1,float(\"NaN\"),3])\n",
    "\n",
    "print(array_6.dtype)\n",
    "\n",
    "print(array_7.dtype)\n",
    "\n"
   ]
  },
  {
   "cell_type": "code",
   "execution_count": null,
   "id": "276bb912",
   "metadata": {},
   "outputs": [
    {
     "name": "stdout",
     "output_type": "stream",
     "text": [
      "         日期   名稱  收盤價\n",
      "0  20250801  aaa  120\n",
      "1  20250802  aaa  130\n",
      "2  20250803  aaa  140\n",
      "<class 'pandas.core.frame.DataFrame'>\n",
      "RangeIndex: 3 entries, 0 to 2\n",
      "Data columns (total 3 columns):\n",
      " #   Column  Non-Null Count  Dtype \n",
      "---  ------  --------------  ----- \n",
      " 0   日期      3 non-null      object\n",
      " 1   名稱      3 non-null      object\n",
      " 2   收盤價     3 non-null      object\n",
      "dtypes: object(3)\n",
      "memory usage: 204.0+ bytes\n",
      "         日期   名稱  收盤價\n",
      "0  20250801  aaa  120\n",
      "1  20250802  aaa  130\n",
      "2  20250803  aaa  140\n",
      "<class 'pandas.core.frame.DataFrame'>\n",
      "RangeIndex: 3 entries, 0 to 2\n",
      "Data columns (total 3 columns):\n",
      " #   Column  Non-Null Count  Dtype \n",
      "---  ------  --------------  ----- \n",
      " 0   日期      3 non-null      object\n",
      " 1   名稱      3 non-null      object\n",
      " 2   收盤價     3 non-null      int64 \n",
      "dtypes: int64(1), object(2)\n",
      "memory usage: 204.0+ bytes\n"
     ]
    }
   ],
   "source": [
    "import pandas\n",
    "\n",
    "\n",
    "# b. pandas \n",
    "\n",
    "# pandas 和 numpy 一樣 , 只要一欄有一個資料是文字 , 剩下都會轉成文字\n",
    "\n",
    "data_column = [\"日期\",\"名稱\",\"收盤價\"]\n",
    "\n",
    "data_row = [[\"20250801\",\"aaa\",120],[\"20250802\",\"aaa\",\"130\"],[\"20250803\",\"aaa\",140]]\n",
    "\n",
    "dataframe = pandas.DataFrame(data_row,columns=data_column)\n",
    "\n",
    "# 直接看 dataframe 看不出來\n",
    "\n",
    "print(dataframe)\n",
    "\n",
    "# 要用 info 看各欄位 dtype\n",
    "\n",
    "dataframe.info()\n",
    "\n",
    "\n",
    "# 改成數字全部一致就正確了\n",
    "\n",
    "data_row_2 = [[\"20250801\",\"aaa\",120],[\"20250802\",\"aaa\",130],[\"20250803\",\"aaa\",140]]\n",
    "\n",
    "dataframe_2 = pandas.DataFrame(data_row_2,columns=data_column)\n",
    "\n",
    "print(dataframe_2)\n",
    "\n",
    "dataframe_2.info()\n",
    "\n"
   ]
  },
  {
   "cell_type": "code",
   "execution_count": null,
   "id": "9f8908e5",
   "metadata": {},
   "outputs": [],
   "source": [
    "# 3. 各欄位型別轉換方式 "
   ]
  }
 ],
 "metadata": {
  "kernelspec": {
   "display_name": "base",
   "language": "python",
   "name": "python3"
  },
  "language_info": {
   "codemirror_mode": {
    "name": "ipython",
    "version": 3
   },
   "file_extension": ".py",
   "mimetype": "text/x-python",
   "name": "python",
   "nbconvert_exporter": "python",
   "pygments_lexer": "ipython3",
   "version": "3.13.5"
  }
 },
 "nbformat": 4,
 "nbformat_minor": 5
}
