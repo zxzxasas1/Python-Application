{
 "cells": [
  {
   "cell_type": "code",
   "execution_count": null,
   "id": "c0f06528",
   "metadata": {},
   "outputs": [],
   "source": [
    "# 資料統計特徵\n",
    "\n",
    "\n",
    "\n",
    "# 在進行資料運用之前先確認資料\n",
    "\n",
    "# a. 基本陣列大小 , 資料列 , 欄位數量 \n",
    "\n",
    "# b. 各欄位的統計敘述 , 相關性\n",
    "\n",
    "# c. 各欄位的資料分布，圖形化呈現\n",
    "\n",
    "\n"
   ]
  },
  {
   "cell_type": "code",
   "execution_count": null,
   "id": "ff89f60d",
   "metadata": {},
   "outputs": [],
   "source": [
    "# 1. 基本陣列大小 , 資料列數量 , 欄位數量 "
   ]
  },
  {
   "cell_type": "code",
   "execution_count": null,
   "id": "3ef93d17",
   "metadata": {},
   "outputs": [
    {
     "name": "stdout",
     "output_type": "stream",
     "text": [
      "(2, 3)\n",
      "2\n",
      "3\n",
      "6\n"
     ]
    }
   ],
   "source": [
    "import numpy\n",
    "\n",
    "\n",
    "# a. numpy 的基本陣列資訊\n",
    "\n",
    "\n",
    "# a-1. shape()\n",
    "\n",
    "array = numpy.array([[1,2,3],[4,5,6]])\n",
    "\n",
    "# shape 會回傳欄和列的 tuple \n",
    "\n",
    "print(numpy.shape(array))\n",
    "\n",
    "# 可以再用索引取得欄和列的數量\n",
    "\n",
    "total = numpy.shape(array)\n",
    "\n",
    "print(total[0])\n",
    "\n",
    "print(total[1])\n",
    "\n",
    "\n",
    "# a-2. size\n",
    "\n",
    "# 用 size 就不用 row * column 來得到元素的總數\n",
    "\n",
    "print(array.size)\n"
   ]
  },
  {
   "cell_type": "code",
   "execution_count": 2,
   "id": "91089c00",
   "metadata": {},
   "outputs": [
    {
     "name": "stdout",
     "output_type": "stream",
     "text": [
      "(5, 3)\n",
      "5\n",
      "3\n",
      "15\n"
     ]
    }
   ],
   "source": [
    "import pandas\n",
    "\n",
    "\n",
    "# b. pandas 的基本矩陣資訊\n",
    "\n",
    "\n",
    "# b-1. shape\n",
    "\n",
    "# 和 numpy 一樣，只是方法變成屬性\n",
    "\n",
    "data_column = [\"日期\",\"名稱\",\"收盤價\"]\n",
    "\n",
    "data_row = [[\"20250801\",\"aaa\",120],[\"20250802\",\"aaa\",130],[\"20250803\",\"aaa\",140],[\"20250804\",\"aaa\",150],[\"20250805\",\"aaa\",160]]\n",
    "\n",
    "dataframe = pandas.DataFrame(data_row,columns=data_column)\n",
    "\n",
    "array = dataframe.shape\n",
    "\n",
    "print(array)\n",
    "\n",
    "row = array[0]\n",
    "\n",
    "column = array[1]\n",
    "\n",
    "print(row)\n",
    "\n",
    "print(column)\n",
    "\n",
    "\n",
    "# b-2. size\n",
    "\n",
    "# 這裡就和 numpy 一模一樣\n",
    "\n",
    "total = dataframe.size\n",
    "\n",
    "print(total)\n"
   ]
  },
  {
   "cell_type": "code",
   "execution_count": null,
   "id": "05d0251b",
   "metadata": {},
   "outputs": [],
   "source": [
    "# 2. 各欄位的統計敘述 , 分布 , 相關性 "
   ]
  },
  {
   "cell_type": "code",
   "execution_count": 4,
   "id": "f61623fd",
   "metadata": {},
   "outputs": [
    {
     "name": "stdout",
     "output_type": "stream",
     "text": [
      "15\n",
      "5\n",
      "3.0\n",
      "3.0\n",
      "2.0\n",
      "1.4142135623730951\n",
      "1\n",
      "5\n",
      "[[2.5  1.25]\n",
      " [1.25 0.7 ]]\n",
      "[[1.         0.94491118]\n",
      " [0.94491118 1.        ]]\n"
     ]
    }
   ],
   "source": [
    "import numpy \n",
    "\n",
    "\n",
    "# a. numpy 的統計描述函數\n",
    "\n",
    "\n",
    "# a-1. mean , var , std , sum , max , min\n",
    "\n",
    "# 就是計算一群數字的統計量的函數，或者說聚合函數\n",
    "\n",
    "array = numpy.array([1,2,3,4,5])\n",
    "\n",
    "# sum 和 count ( 只有 count_nonzero , 元素總數是 size ) 是基本資訊\n",
    "\n",
    "numpy_sum = numpy.sum(array)\n",
    "\n",
    "numpy_count = array.size\n",
    "\n",
    "print(numpy_sum)\n",
    "\n",
    "print(numpy_count)\n",
    "\n",
    "# mean , median 是集中量數 \n",
    "\n",
    "numpy_mean = numpy.mean(array)\n",
    "\n",
    "numpy_median = numpy.median(array)\n",
    "\n",
    "print(numpy_mean)\n",
    "\n",
    "print(numpy_median)\n",
    "\n",
    "\n",
    "# a-2.  var , std , max , min 是離散量數 ( 這邊的 var 是樣本的 var，是除 N - 1 )\n",
    "\n",
    "numpy_var = numpy.var(array)\n",
    "\n",
    "numpy_std = numpy.std(array)\n",
    "\n",
    "numpy_min = numpy.min(array)\n",
    "\n",
    "numpy_max = numpy.max(array)\n",
    "\n",
    "print(numpy_var)\n",
    "\n",
    "print(numpy_std)\n",
    "\n",
    "print(numpy_min)\n",
    "\n",
    "print(numpy_max)\n",
    "\n",
    "\n",
    "# a-3. 相關性 corvariance 和 correlation 的計算\n",
    "\n",
    "# cov 和 corrcoef 都是產生矩陣\n",
    "\n",
    "# 可以發現這邊 cov 的對角線是自己對自己數列的變異數 ( 這邊是除 N )，因此很接近上面 var 計算結果\n",
    "\n",
    "array_2 = numpy.array([1,2,2,3,3])\n",
    "\n",
    "numpy_cov = numpy.cov(array,array_2)\n",
    "\n",
    "numpy_correlate = numpy.corrcoef(array,array_2)\n",
    "\n",
    "print(numpy_cov)\n",
    "\n",
    "print(numpy_correlate)"
   ]
  },
  {
   "cell_type": "code",
   "execution_count": null,
   "id": "52833c19",
   "metadata": {},
   "outputs": [],
   "source": [
    "import pandas\n",
    "\n",
    "\n",
    "# a. pandas 的統計描述函數\n",
    "\n",
    "\n"
   ]
  }
 ],
 "metadata": {
  "kernelspec": {
   "display_name": "base",
   "language": "python",
   "name": "python3"
  },
  "language_info": {
   "codemirror_mode": {
    "name": "ipython",
    "version": 3
   },
   "file_extension": ".py",
   "mimetype": "text/x-python",
   "name": "python",
   "nbconvert_exporter": "python",
   "pygments_lexer": "ipython3",
   "version": "3.13.5"
  }
 },
 "nbformat": 4,
 "nbformat_minor": 5
}
