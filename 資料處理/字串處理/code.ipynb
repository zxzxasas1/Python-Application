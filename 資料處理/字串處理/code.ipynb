{
 "cells": [
  {
   "cell_type": "code",
   "execution_count": null,
   "id": "a716d241",
   "metadata": {},
   "outputs": [],
   "source": [
    "# 字串可以分割或合併來產生新欄位\n",
    "\n",
    "# 字串欄位在移除完遺漏值之後就可以進行 , 也因為通常會確定是哪個字串欄位要處理 , 且產生新欄位型別還是字串 , 但不見得要字串 , 因此可以在型別轉換處理前做\n",
    "\n"
   ]
  }
 ],
 "metadata": {
  "language_info": {
   "name": "python"
  }
 },
 "nbformat": 4,
 "nbformat_minor": 5
}
