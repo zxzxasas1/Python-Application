{
 "cells": [
  {
   "cell_type": "code",
   "execution_count": null,
   "id": "a716d241",
   "metadata": {},
   "outputs": [],
   "source": [
    "# 字串可以分割或合併來產生新欄位\n",
    "\n",
    "# 字串欄位在移除完遺漏值之後就可以進行 , 也因為通常會確定是哪個字串欄位要處理 , 因此不見得要在欄位型別轉換處理後做\n",
    "\n"
   ]
  }
 ],
 "metadata": {
  "language_info": {
   "name": "python"
  }
 },
 "nbformat": 4,
 "nbformat_minor": 5
}
