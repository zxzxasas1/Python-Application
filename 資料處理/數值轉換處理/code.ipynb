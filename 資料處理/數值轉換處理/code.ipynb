{
 "cells": [
  {
   "cell_type": "code",
   "execution_count": null,
   "id": "a1915678",
   "metadata": {},
   "outputs": [],
   "source": [
    "# 正規化處理 ( Standardlization )\n",
    "\n",
    "\n"
   ]
  },
  {
   "cell_type": "code",
   "execution_count": null,
   "id": "cfcb541b",
   "metadata": {},
   "outputs": [],
   "source": [
    "# 虛擬變數處理 ( Dummy Variables ) \n",
    "\n",
    "\n"
   ]
  }
 ],
 "metadata": {
  "kernelspec": {
   "display_name": "base",
   "language": "python",
   "name": "python3"
  },
  "language_info": {
   "name": "python",
   "version": "3.13.5"
  }
 },
 "nbformat": 4,
 "nbformat_minor": 5
}
