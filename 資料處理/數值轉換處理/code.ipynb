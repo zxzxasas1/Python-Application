{
 "cells": [
  {
   "cell_type": "code",
   "execution_count": null,
   "id": "a1915678",
   "metadata": {},
   "outputs": [],
   "source": [
    "# 正規化處理 ( Standardlization )\n",
    "\n"
   ]
  },
  {
   "cell_type": "code",
   "execution_count": null,
   "id": "cfcb541b",
   "metadata": {},
   "outputs": [],
   "source": [
    "# 虛擬變數處理 ( Dummy Variables ) "
   ]
  }
 ],
 "metadata": {
  "language_info": {
   "name": "python"
  }
 },
 "nbformat": 4,
 "nbformat_minor": 5
}
