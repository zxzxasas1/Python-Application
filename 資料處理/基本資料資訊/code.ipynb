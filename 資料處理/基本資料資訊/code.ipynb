{
 "cells": [
  {
   "cell_type": "code",
   "execution_count": null,
   "id": "ffb75d4e",
   "metadata": {},
   "outputs": [],
   "source": [
    "# 資料處理步驟\n",
    "\n",
    "\n",
    "# 在進行資料運用之前先確認以下資料資訊並做以下處理 :\n",
    "\n",
    "# a. 基本資料資訊 : 陣列大小 , 列數量 , 欄位數量 \n",
    "\n",
    "# b. 欄位型別及轉換\n",
    "\n",
    "# c. 是否有 NaN 等遺漏值\n",
    "\n",
    "# d. 統計特徵\n"
   ]
  },
  {
   "cell_type": "code",
   "execution_count": null,
   "id": "2f57e560",
   "metadata": {},
   "outputs": [],
   "source": [
    "# 1. 基本資料資訊 : 陣列大小 , 列數量 , 欄位數量 "
   ]
  },
  {
   "cell_type": "code",
   "execution_count": null,
   "id": "10e1a176",
   "metadata": {},
   "outputs": [
    {
     "name": "stdout",
     "output_type": "stream",
     "text": [
      "(2, 3)\n",
      "2\n",
      "3\n",
      "6\n"
     ]
    }
   ],
   "source": [
    "import numpy\n",
    "\n",
    "\n",
    "# a. numpy 的基本陣列資訊\n",
    "\n",
    "\n",
    "# a-1. shape()\n",
    "\n",
    "array = numpy.array([[1,2,3],[4,5,6]])\n",
    "\n",
    "# shape 會回傳欄和列的 tuple \n",
    "\n",
    "print(numpy.shape(array))\n",
    "\n",
    "# 可以再用索引取得欄和列的數量\n",
    "\n",
    "total = numpy.shape(array)\n",
    "\n",
    "print(total[0])\n",
    "\n",
    "print(total[1])\n",
    "\n",
    "\n",
    "# a-2. size\n",
    "\n",
    "# 用 size 就不用 row * column 來得到元素的總數\n",
    "\n",
    "print(array.size)\n",
    "\n"
   ]
  },
  {
   "cell_type": "code",
   "execution_count": 1,
   "id": "31991920",
   "metadata": {},
   "outputs": [
    {
     "name": "stdout",
     "output_type": "stream",
     "text": [
      "(5, 3)\n",
      "5\n",
      "3\n",
      "15\n"
     ]
    }
   ],
   "source": [
    "import pandas\n",
    "\n",
    "\n",
    "# b. pandas 的基本矩陣資訊\n",
    "\n",
    "\n",
    "# b-1. shape\n",
    "\n",
    "# 和 numpy 一樣，只是方法變成屬性\n",
    "\n",
    "data_column = [\"日期\",\"名稱\",\"收盤價\"]\n",
    "\n",
    "data_row = [[\"20250801\",\"aaa\",120],[\"20250802\",\"aaa\",130],[\"20250803\",\"aaa\",130],[\"20250804\",\"aaa\",150],[\"20250805\",\"aaa\",160]]\n",
    "\n",
    "dataframe = pandas.DataFrame(data_row,columns=data_column)\n",
    "\n",
    "array = dataframe.shape\n",
    "\n",
    "print(array)\n",
    "\n",
    "row = array[0]\n",
    "\n",
    "column = array[1]\n",
    "\n",
    "print(row)\n",
    "\n",
    "print(column)\n",
    "\n",
    "\n",
    "# b-2. size\n",
    "\n",
    "# 這裡就和 numpy 一模一樣\n",
    "\n",
    "total = dataframe.size\n",
    "\n",
    "print(total)\n",
    "\n"
   ]
  }
 ],
 "metadata": {
  "kernelspec": {
   "display_name": "base",
   "language": "python",
   "name": "python3"
  },
  "language_info": {
   "codemirror_mode": {
    "name": "ipython",
    "version": 3
   },
   "file_extension": ".py",
   "mimetype": "text/x-python",
   "name": "python",
   "nbconvert_exporter": "python",
   "pygments_lexer": "ipython3",
   "version": "3.13.5"
  }
 },
 "nbformat": 4,
 "nbformat_minor": 5
}
