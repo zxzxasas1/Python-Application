{
 "cells": [
  {
   "cell_type": "code",
   "execution_count": 1,
   "id": "03c68c06",
   "metadata": {},
   "outputs": [
    {
     "name": "stdout",
     "output_type": "stream",
     "text": [
      "\n",
      "1 * 1 = 1\n",
      "1 * 2 = 2\n",
      "1 * 3 = 3\n",
      "1 * 4 = 4\n",
      "1 * 5 = 5\n",
      "1 * 6 = 6\n",
      "1 * 7 = 7\n",
      "1 * 8 = 8\n",
      "1 * 9 = 9\n",
      "\n",
      "2 * 1 = 2\n",
      "2 * 2 = 4\n",
      "2 * 3 = 6\n",
      "2 * 4 = 8\n",
      "2 * 5 = 10\n",
      "2 * 6 = 12\n",
      "2 * 7 = 14\n",
      "2 * 8 = 16\n",
      "2 * 9 = 18\n",
      "\n",
      "3 * 1 = 3\n",
      "3 * 2 = 6\n",
      "3 * 3 = 9\n",
      "3 * 4 = 12\n",
      "3 * 5 = 15\n",
      "3 * 6 = 18\n",
      "3 * 7 = 21\n",
      "3 * 8 = 24\n",
      "3 * 9 = 27\n",
      "\n",
      "4 * 1 = 4\n",
      "4 * 2 = 8\n",
      "4 * 3 = 12\n",
      "4 * 4 = 16\n",
      "4 * 5 = 20\n",
      "4 * 6 = 24\n",
      "4 * 7 = 28\n",
      "4 * 8 = 32\n",
      "4 * 9 = 36\n",
      "\n",
      "5 * 1 = 5\n",
      "5 * 2 = 10\n",
      "5 * 3 = 15\n",
      "5 * 4 = 20\n",
      "5 * 5 = 25\n",
      "5 * 6 = 30\n",
      "5 * 7 = 35\n",
      "5 * 8 = 40\n",
      "5 * 9 = 45\n",
      "\n",
      "6 * 1 = 6\n",
      "6 * 2 = 12\n",
      "6 * 3 = 18\n",
      "6 * 4 = 24\n",
      "6 * 5 = 30\n",
      "6 * 6 = 36\n",
      "6 * 7 = 42\n",
      "6 * 8 = 48\n",
      "6 * 9 = 54\n",
      "\n",
      "7 * 1 = 7\n",
      "7 * 2 = 14\n",
      "7 * 3 = 21\n",
      "7 * 4 = 28\n",
      "7 * 5 = 35\n",
      "7 * 6 = 42\n",
      "7 * 7 = 49\n",
      "7 * 8 = 56\n",
      "7 * 9 = 63\n",
      "\n",
      "8 * 1 = 8\n",
      "8 * 2 = 16\n",
      "8 * 3 = 24\n",
      "8 * 4 = 32\n",
      "8 * 5 = 40\n",
      "8 * 6 = 48\n",
      "8 * 7 = 56\n",
      "8 * 8 = 64\n",
      "8 * 9 = 72\n",
      "\n",
      "9 * 1 = 9\n",
      "9 * 2 = 18\n",
      "9 * 3 = 27\n",
      "9 * 4 = 36\n",
      "9 * 5 = 45\n",
      "9 * 6 = 54\n",
      "9 * 7 = 63\n",
      "9 * 8 = 72\n",
      "9 * 9 = 81\n"
     ]
    }
   ],
   "source": [
    "product = 1\n",
    "\n",
    "for i in range(1,10):\n",
    "    \n",
    "    print(\"\")\n",
    "\n",
    "    for j in range(1,10):\n",
    "\n",
    "        product = i * j\n",
    "\n",
    "        print(i,\"*\",j,\"=\",product)"
   ]
  },
  {
   "cell_type": "code",
   "execution_count": 2,
   "id": "c774d0ab",
   "metadata": {},
   "outputs": [
    {
     "name": "stdout",
     "output_type": "stream",
     "text": [
      "總和為 6 共輸入 3 次\n"
     ]
    }
   ],
   "source": [
    "sum = 0\n",
    "\n",
    "N = 0\n",
    "\n",
    "while True : \n",
    "\n",
    "    text = input(\"請輸入數字或 quit\")\n",
    "\n",
    "    if text == \"quit\" :\n",
    "\n",
    "        break\n",
    "\n",
    "    else :\n",
    "\n",
    "        num = int(text)\n",
    "\n",
    "        sum = sum + num\n",
    "\n",
    "        N = N + 1\n",
    "\n",
    "print(\"總和為\", sum , \"共輸入\" , N , \"次\")\n",
    "\n"
   ]
  },
  {
   "cell_type": "code",
   "execution_count": null,
   "id": "f3c649a8",
   "metadata": {},
   "outputs": [
    {
     "name": "stdout",
     "output_type": "stream",
     "text": [
      "1\n",
      "5\n",
      "[1, 2]\n",
      "[3]\n",
      "[4]\n",
      "[5, 4, 3]\n"
     ]
    }
   ],
   "source": [
    "mylist = [1,2,3,4,5]\n",
    "\n",
    "print(mylist[0])\n",
    "\n",
    "print(len(mylist))\n",
    "\n",
    "print(mylist[0:2])\n",
    "\n",
    "print(mylist[2:-2])\n",
    "\n",
    "print(mylist[-2:4])\n",
    "\n",
    "print(mylist[4:1:-1])"
   ]
  },
  {
   "cell_type": "code",
   "execution_count": null,
   "id": "47c5888f",
   "metadata": {},
   "outputs": [
    {
     "name": "stdout",
     "output_type": "stream",
     "text": [
      "[1, 2, 3, 4, 5]\n",
      "[1, 2, 3, 4, 5]\n"
     ]
    }
   ],
   "source": [
    "x = [1,2,3]\n",
    "\n",
    "y = [4,5]\n",
    "\n",
    "print(x+y)\n",
    "\n",
    "x[3:] = y\n",
    "\n",
    "print(x)"
   ]
  },
  {
   "cell_type": "code",
   "execution_count": null,
   "id": "67a04078",
   "metadata": {},
   "outputs": [
    {
     "name": "stdout",
     "output_type": "stream",
     "text": [
      "[4, 5, 3] [4, 5, 1, 2, 3]\n"
     ]
    }
   ],
   "source": [
    "x = [1,2,3]\n",
    "\n",
    "a = [1,2,3]\n",
    "\n",
    "y = [4,5]\n",
    "\n",
    "x[:-1] = y\n",
    "\n",
    "a[:0] = y\n",
    "\n",
    "# [1:-1] 可以選擇中間資料，去掉前後，很方便\n",
    "\n",
    "print(x,a)"
   ]
  },
  {
   "cell_type": "code",
   "execution_count": 42,
   "id": "1edbea2b",
   "metadata": {},
   "outputs": [
    {
     "name": "stdout",
     "output_type": "stream",
     "text": [
      "[1, 2, 3, 4]\n"
     ]
    }
   ],
   "source": [
    "a = [1,2,3]\n",
    "\n",
    "b = 4\n",
    "\n",
    "a.append(b)\n",
    "\n",
    "print(a)"
   ]
  },
  {
   "cell_type": "code",
   "execution_count": 43,
   "id": "780d1b11",
   "metadata": {},
   "outputs": [
    {
     "name": "stdout",
     "output_type": "stream",
     "text": [
      "[1, 2, 3, 4, 5]\n"
     ]
    }
   ],
   "source": [
    "a = [1,2,3]\n",
    "\n",
    "b = [4,5]\n",
    "\n",
    "a.extend(b)\n",
    "\n",
    "print(a)"
   ]
  },
  {
   "cell_type": "code",
   "execution_count": 45,
   "id": "acda7fd1",
   "metadata": {},
   "outputs": [
    {
     "name": "stdout",
     "output_type": "stream",
     "text": [
      "[2, 3]\n"
     ]
    }
   ],
   "source": [
    "a = [1,2,3]\n",
    "\n",
    "b = 1\n",
    "\n",
    "a.remove(b)\n",
    "\n",
    "print(a)"
   ]
  },
  {
   "cell_type": "code",
   "execution_count": 54,
   "id": "d3afded2",
   "metadata": {},
   "outputs": [
    {
     "name": "stdout",
     "output_type": "stream",
     "text": [
      "[1, 2, 3, 4, 5] [5, 4, 3, 2, 1]\n"
     ]
    }
   ],
   "source": [
    "a = [1,3,5,2,4]\n",
    "\n",
    "a.sort()\n",
    "\n",
    "b = [1,3,5,2,4]\n",
    "\n",
    "b.sort(reverse=True)\n",
    "\n",
    "print(a,b)"
   ]
  },
  {
   "cell_type": "code",
   "execution_count": null,
   "id": "d4829dd1",
   "metadata": {},
   "outputs": [
    {
     "name": "stdout",
     "output_type": "stream",
     "text": [
      "[1, 2, 3]\n"
     ]
    }
   ],
   "source": [
    "# list 的 copy 功能\n",
    "\n",
    "a = [1,2,3]\n",
    "\n",
    "b = a[:]\n",
    "\n",
    "print(b)"
   ]
  },
  {
   "cell_type": "code",
   "execution_count": 55,
   "id": "817d85e6",
   "metadata": {},
   "outputs": [
    {
     "name": "stdout",
     "output_type": "stream",
     "text": [
      "False\n"
     ]
    }
   ],
   "source": [
    "a = [1,3,5,2,4]\n",
    "\n",
    "b = 10\n",
    "\n",
    "c = b in a\n",
    "\n",
    "print(c)"
   ]
  },
  {
   "cell_type": "code",
   "execution_count": 1,
   "id": "05895d9e",
   "metadata": {},
   "outputs": [
    {
     "name": "stdout",
     "output_type": "stream",
     "text": [
      "5 1 6\n"
     ]
    }
   ],
   "source": [
    "a = [1,3,5,2,4]\n",
    "\n",
    "b = max(a)\n",
    "\n",
    "c = min(a)\n",
    "\n",
    "x = [1,2,3]\n",
    "\n",
    "y = sum(x)\n",
    "\n",
    "print(b,c,y)"
   ]
  },
  {
   "cell_type": "code",
   "execution_count": 2,
   "id": "5e08bc1d",
   "metadata": {},
   "outputs": [
    {
     "name": "stdout",
     "output_type": "stream",
     "text": [
      "3\n"
     ]
    }
   ],
   "source": [
    "a = [1,3,5,2,4]\n",
    "\n",
    "b = a.index(2)\n",
    "\n",
    "print(b)"
   ]
  },
  {
   "cell_type": "code",
   "execution_count": 3,
   "id": "996a7ad4",
   "metadata": {},
   "outputs": [
    {
     "name": "stdout",
     "output_type": "stream",
     "text": [
      "1\n"
     ]
    }
   ],
   "source": [
    "a = [1,3,5,2,4]\n",
    "\n",
    "b = a.count(2)\n",
    "\n",
    "print(b)"
   ]
  },
  {
   "cell_type": "code",
   "execution_count": null,
   "id": "b64f02e8",
   "metadata": {},
   "outputs": [
    {
     "name": "stdout",
     "output_type": "stream",
     "text": [
      "[0, 1, 2]\n"
     ]
    }
   ],
   "source": [
    "a = []\n",
    "\n",
    "for i in range(3) :\n",
    "\n",
    "    a.append(i)\n",
    "\n",
    "print(a)"
   ]
  },
  {
   "cell_type": "code",
   "execution_count": null,
   "id": "d3903a49",
   "metadata": {},
   "outputs": [
    {
     "name": "stdout",
     "output_type": "stream",
     "text": [
      "[0, 1, 2]\n"
     ]
    }
   ],
   "source": [
    "a = [i for i in range(3)]\n",
    "\n",
    "print(a)"
   ]
  },
  {
   "cell_type": "code",
   "execution_count": 18,
   "id": "0f4181da",
   "metadata": {},
   "outputs": [
    {
     "name": "stdout",
     "output_type": "stream",
     "text": [
      "[0, 1, 2, 3, 4, 5, 6, 7, 8, 9]\n",
      "[0, 2, 4, 6, 8]\n",
      "[1, 3, 5, 7, 9]\n",
      "[0, 4, 16, 36, 64]\n",
      "[0, 3, 5, 6, 9]\n"
     ]
    }
   ],
   "source": [
    "a = [i for i in range(10)]\n",
    "\n",
    "b = [i for i in range(10) if i%2 ==0]\n",
    "\n",
    "c = [i for i in range(10) if i%2 ==1]\n",
    "\n",
    "d = [i*i for i in range(10) if i%2 ==0]\n",
    "\n",
    "e = [i for i in range(10) if i%3 ==0 or i%5==0]\n",
    "\n",
    "print(a)\n",
    "\n",
    "print(b)\n",
    "\n",
    "print(c)\n",
    "\n",
    "print(d)\n",
    "\n",
    "print(e)"
   ]
  },
  {
   "cell_type": "code",
   "execution_count": 24,
   "id": "9454910c",
   "metadata": {},
   "outputs": [
    {
     "name": "stdout",
     "output_type": "stream",
     "text": [
      "{'name': 'Tom', 'age': '25', 'phone': '123'}\n"
     ]
    }
   ],
   "source": [
    "a = {\n",
    "\n",
    "    \"name\" : \"Tom\",\n",
    "    \"age\" : \"25\",\n",
    "    \"phone\" : \"123\"\n",
    "\n",
    "}\n",
    "\n",
    "b = dict(name = \"Tom\", age = \"25\", phone= \"123\")\n",
    "\n",
    "c = [(\"name\",\"Tom\"),(\"age\",\"25\"),(\"phone\",\"123\")]\n",
    "\n",
    "d = dict(a)\n",
    "\n",
    "print(d)"
   ]
  },
  {
   "cell_type": "code",
   "execution_count": 31,
   "id": "30fc3955",
   "metadata": {},
   "outputs": [
    {
     "name": "stdout",
     "output_type": "stream",
     "text": [
      "Tom\n",
      "Tom\n"
     ]
    }
   ],
   "source": [
    "a = {\n",
    "\n",
    "    \"name\" : \"Tom\",\n",
    "    \"age\" : \"25\",\n",
    "    \"phone\" : \"123\"\n",
    "\n",
    "}\n",
    "\n",
    "print(a[\"name\"])\n",
    "\n",
    "b = a.get(\"name\")\n",
    "\n",
    "print(b)\n",
    "\n"
   ]
  },
  {
   "cell_type": "code",
   "execution_count": null,
   "id": "6a6ec2b4",
   "metadata": {},
   "outputs": [
    {
     "name": "stdout",
     "output_type": "stream",
     "text": [
      "{'name': 'cat', 'age': '25', 'phone': '123', 'address': 'abc'}\n"
     ]
    }
   ],
   "source": [
    "a = {\n",
    "\n",
    "    \"name\" : \"Tom\",\n",
    "    \"age\" : \"25\",\n",
    "    \"phone\" : \"123\"\n",
    "\n",
    "}\n",
    "\n",
    "a[\"name\"] = \"cat\"\n",
    "\n",
    "a[\"address\"] = \"abc\"\n",
    "\n",
    "print(c)"
   ]
  },
  {
   "cell_type": "code",
   "execution_count": 34,
   "id": "ad76de37",
   "metadata": {},
   "outputs": [
    {
     "name": "stdout",
     "output_type": "stream",
     "text": [
      "{'age': '25', 'phone': '123'}\n"
     ]
    }
   ],
   "source": [
    "a = {\n",
    "\n",
    "    \"name\" : \"Tom\",\n",
    "    \"age\" : \"25\",\n",
    "    \"phone\" : \"123\"\n",
    "\n",
    "}\n",
    "\n",
    "del a[\"name\"]\n",
    "\n",
    "print(a)"
   ]
  },
  {
   "cell_type": "code",
   "execution_count": null,
   "id": "cc3d50ed",
   "metadata": {},
   "outputs": [
    {
     "name": "stdout",
     "output_type": "stream",
     "text": [
      "{'age': '25', 'phone': '123'}\n",
      "Tom\n"
     ]
    }
   ],
   "source": [
    "a = {\n",
    "\n",
    "    \"name\" : \"Tom\",\n",
    "    \"age\" : \"25\",\n",
    "    \"phone\" : \"123\"\n",
    "\n",
    "}\n",
    "\n",
    "b = a.pop(\"name\")\n",
    "\n",
    "print(a)\n",
    "\n",
    "print(b)"
   ]
  },
  {
   "cell_type": "code",
   "execution_count": null,
   "id": "2b380773",
   "metadata": {},
   "outputs": [
    {
     "name": "stdout",
     "output_type": "stream",
     "text": [
      "{'name': 'Tom', 'age': '25'}\n",
      "('phone', '123')\n"
     ]
    }
   ],
   "source": [
    "a = {\n",
    "\n",
    "    \"name\" : \"Tom\",\n",
    "    \"age\" : \"25\",\n",
    "    \"phone\" : \"123\"\n",
    "\n",
    "}\n",
    "\n",
    "b = a.popitem()\n",
    "\n",
    "print(a)\n",
    "\n",
    "print(b)"
   ]
  },
  {
   "cell_type": "code",
   "execution_count": 41,
   "id": "81e8787a",
   "metadata": {},
   "outputs": [
    {
     "name": "stdout",
     "output_type": "stream",
     "text": [
      "{}\n"
     ]
    }
   ],
   "source": [
    "a = {\n",
    "\n",
    "    \"name\" : \"Tom\",\n",
    "    \"age\" : \"25\",\n",
    "    \"phone\" : \"123\"\n",
    "\n",
    "}\n",
    "\n",
    "a.clear()\n",
    "\n",
    "print(a)"
   ]
  },
  {
   "cell_type": "code",
   "execution_count": 94,
   "id": "a465f73a",
   "metadata": {},
   "outputs": [
    {
     "name": "stdout",
     "output_type": "stream",
     "text": [
      "{'name': 'Tom', 'age': '25', 'phone': '123'}\n",
      "['name', 'age', 'phone']\n",
      "['Tom', '25', '123']\n",
      "[('name', 'Tom'), ('age', '25'), ('phone', '123')]\n"
     ]
    }
   ],
   "source": [
    "a = {\n",
    "\n",
    "    \"name\" : \"Tom\",\n",
    "    \"age\" : \"25\",\n",
    "    \"phone\" : \"123\"\n",
    "\n",
    "}\n",
    "\n",
    "b = list(a.keys())\n",
    "\n",
    "c = list(a.values())\n",
    "\n",
    "d = list(a.items())\n",
    "\n",
    "print(a)\n",
    "\n",
    "print(b)\n",
    "\n",
    "print(c)\n",
    "\n",
    "print(d)"
   ]
  },
  {
   "cell_type": "code",
   "execution_count": 48,
   "id": "086d8bce",
   "metadata": {},
   "outputs": [
    {
     "name": "stdout",
     "output_type": "stream",
     "text": [
      "{'name': 'Tom', 'age': '25', 'phone': '123', 'address': 'abc'}\n"
     ]
    }
   ],
   "source": [
    "a = {\n",
    "\n",
    "    \"name\" : \"Tom\",\n",
    "    \"age\" : \"25\",\n",
    "    \"phone\" : \"123\"\n",
    "\n",
    "}\n",
    "\n",
    "b = {\n",
    "\n",
    "    \"address\" : \"abc\"\n",
    "\n",
    "}\n",
    "\n",
    "a.update(b)\n",
    "\n",
    "print(a)"
   ]
  },
  {
   "cell_type": "code",
   "execution_count": null,
   "id": "145287e2",
   "metadata": {},
   "outputs": [
    {
     "name": "stdout",
     "output_type": "stream",
     "text": [
      "name\n",
      "age\n",
      "phone\n",
      "<class 'str'>\n",
      "<class 'str'>\n",
      "<class 'str'>\n",
      "<class 'tuple'>\n",
      "<class 'tuple'>\n",
      "<class 'tuple'>\n",
      "name : Tom\n",
      "age : 25\n",
      "phone : 123\n"
     ]
    }
   ],
   "source": [
    "a = {\n",
    "\n",
    "    \"name\" : \"Tom\",\n",
    "    \"age\" : \"25\",\n",
    "    \"phone\" : \"123\"\n",
    "\n",
    "}\n",
    "\n",
    "for x in a.keys() :\n",
    "\n",
    "    print(x)\n",
    "\n",
    "for x in a.values() :\n",
    "\n",
    "    print(x)\n",
    "\n",
    "for x in a.items() :\n",
    "\n",
    "    print(x)\n",
    "\n",
    "for x , y in a.items() :\n",
    "\n",
    "    print(f\"{x} : {y}\")"
   ]
  },
  {
   "cell_type": "code",
   "execution_count": 96,
   "id": "d28a6199",
   "metadata": {},
   "outputs": [
    {
     "name": "stdout",
     "output_type": "stream",
     "text": [
      "{0: 0, 1: 1, 2: 4}\n",
      "{'banana': 6, 'orange': 6}\n",
      "{'apple': 8.0, 'banana': 12.0, 'orange': 16.0}\n"
     ]
    }
   ],
   "source": [
    "a = {x : x**2 for x in range(3)}\n",
    "\n",
    "print(a)\n",
    "\n",
    "b = [\"apple\",\"banana\",\"orange\"]\n",
    "\n",
    "c = {x : len(x) for x in b if len(x) > 5}\n",
    "\n",
    "print(c)\n",
    "\n",
    "d = {\n",
    "\n",
    "    \"apple\" : 10,\n",
    "    \"banana\" : 15,\n",
    "    \"orange\" : 20\n",
    "\n",
    "}\n",
    "\n",
    "e = {x : y*0.8 for x , y in d.items()}\n",
    "\n",
    "print(e)"
   ]
  },
  {
   "cell_type": "code",
   "execution_count": 104,
   "id": "3e3ae70b",
   "metadata": {},
   "outputs": [
    {
     "name": "stdout",
     "output_type": "stream",
     "text": [
      "20\n",
      "{'age': '20', 'department': 'a'}\n",
      "26\n"
     ]
    }
   ],
   "source": [
    "a = {\n",
    "\n",
    "    \"student\" : {\n",
    "\n",
    "        \"Tom\" : { \"age\" : \"20\" , \"department\" : \"a\" } ,\n",
    "        \n",
    "        \"Cat\" : { \"age\" : \"25\" , \"department\" : \"b\" }\n",
    "\n",
    "    } ,\n",
    "\n",
    "    \"department\" : {\n",
    "\n",
    "        \"a\" : { \"address\" : \"abc\" , \"phone\" : \"123\" } ,\n",
    "\n",
    "        \"b\" : { \"address\" : \"def\" , \"phone\" : \"456\" }\n",
    "\n",
    "    }\n",
    "    \n",
    "}\n",
    "\n",
    "b = a[\"student\"][\"Tom\"][\"age\"]\n",
    "\n",
    "print(b)\n",
    "\n",
    "c = a[\"student\"][\"Tom\"]\n",
    "\n",
    "print(c)\n",
    "\n",
    "a[\"student\"][\"Cat\"][\"age\"] = 26\n",
    "\n",
    "print(a[\"student\"][\"Cat\"][\"age\"])\n",
    "\n"
   ]
  },
  {
   "cell_type": "code",
   "execution_count": null,
   "id": "9956d66c",
   "metadata": {},
   "outputs": [
    {
     "name": "stdout",
     "output_type": "stream",
     "text": [
      "[{'name': 'Tom', 'department': 'abc', 'age': 20}, {'name': 'Cat', 'department': 'def', 'age': 25}, {'name': 'Meow', 'department': 'ghi', 'age': 30}]\n",
      "Tom\n",
      "26\n"
     ]
    }
   ],
   "source": [
    "a = [\n",
    "    \n",
    "    {\n",
    "\n",
    "        \"name\" : \"Tom\",\n",
    "        \"department\" : \"aaa\",\n",
    "        \"age\" : 20\n",
    "\n",
    "    },\n",
    "\n",
    "    {\n",
    "        \n",
    "        \"name\" : \"Cat\",\n",
    "        \"department\" : \"bbb\",\n",
    "        \"age\" : 25\n",
    "\n",
    "    }\n",
    "\n",
    "]\n",
    "\n",
    "b = {\n",
    "\n",
    "        \"name\" : \"Meow\",\n",
    "        \"department\" : \"ccc\",\n",
    "        \"age\" : 30\n",
    "\n",
    "    }\n",
    "\n",
    "a.append(b)\n",
    "\n",
    "print(a)\n",
    "\n",
    "c = a[0][\"name\"]\n",
    "\n",
    "print(c)\n",
    "\n",
    "a[1][\"age\"] = 26\n",
    "\n",
    "print(a[1][\"age\"])\n"
   ]
  },
  {
   "cell_type": "code",
   "execution_count": null,
   "id": "78cf6673",
   "metadata": {},
   "outputs": [
    {
     "name": "stdout",
     "output_type": "stream",
     "text": [
      "aaa\n",
      "[{'name': 'Cat', 'department': 'bbb', 'age': 25}, {'name': 'Meow', 'department': 'ccc', 'age': 30}]\n",
      "bbb\n"
     ]
    }
   ],
   "source": [
    "a = [\n",
    "    \n",
    "    {\n",
    "\n",
    "        \"name\" : \"Tom\",\n",
    "        \"department\" : \"aaa\",\n",
    "        \"age\" : 20\n",
    "\n",
    "    },\n",
    "\n",
    "    {\n",
    "        \n",
    "        \"name\" : \"Cat\",\n",
    "        \"department\" : \"bbb\",\n",
    "        \"age\" : 25\n",
    "\n",
    "    },\n",
    " \n",
    "    {\n",
    "\n",
    "        \"name\" : \"Meow\",\n",
    "        \"department\" : \"ccc\",\n",
    "        \"age\" : 30\n",
    "\n",
    "    }\n",
    "\n",
    "]\n",
    "\n",
    "b = []\n",
    "\n",
    "for x in a :\n",
    "\n",
    "    if x[\"age\"] > 23 :\n",
    "\n",
    "        b.append(x)    \n",
    "\n",
    "    if x[\"name\"] == \"Tom\" :\n",
    "    \n",
    "        print(x[\"department\"])\n",
    "\n",
    "print(b)\n",
    "\n",
    "c = [x for x in a if x[\"name\"] == \"Cat\"]\n",
    "\n",
    "print(c[0][\"department\"])\n"
   ]
  },
  {
   "cell_type": "code",
   "execution_count": 1,
   "id": "1d43e506",
   "metadata": {},
   "outputs": [
    {
     "name": "stdout",
     "output_type": "stream",
     "text": [
      "[(1, 25), (2, 20), (0, 10)]\n"
     ]
    }
   ],
   "source": [
    "# dictionary 的排序\n",
    "\n",
    "a = [10,25,20]\n",
    "\n",
    "pair = dict(enumerate(a))\n",
    "\n",
    "# 用 items 來排序 , 還有 key 以 lamda 傳入每個 items 元素的 values 來做為排序依據\n",
    "\n",
    "sort_pair = sorted(pair.items(),key=lambda item:item[1],reverse=True)\n",
    "\n",
    "# 最後得到是 list of tuple \n",
    "\n",
    "print(sort_pair)"
   ]
  },
  {
   "cell_type": "code",
   "execution_count": 5,
   "id": "3d66dd14",
   "metadata": {},
   "outputs": [
    {
     "name": "stdout",
     "output_type": "stream",
     "text": [
      "[5, 4, 3, 2, 1]\n",
      "[5, 4, 3, 2, 1]\n"
     ]
    }
   ],
   "source": [
    "# list 的倒序排序\n",
    "\n",
    "# 用 [::-1] 即可，最後一個是一次跳幾階的引數，-1 就是減少\n",
    "\n",
    "a = [1,2,3,4,5]\n",
    "\n",
    "b = a[::-1]\n",
    "\n",
    "print(b)\n",
    "\n",
    "# sort(reverse=True) 也可以排完再倒序變 desc，注意不會回傳，只有對原變數做變動\n",
    "\n",
    "a = [1,3,5,2,4]\n",
    "\n",
    "a.sort(reverse=True)\n",
    "\n",
    "print(a)\n"
   ]
  },
  {
   "cell_type": "code",
   "execution_count": null,
   "id": "03d75330",
   "metadata": {},
   "outputs": [
    {
     "name": "stdout",
     "output_type": "stream",
     "text": [
      "[0, 1, 2, 3, 4, 5]\n"
     ]
    }
   ],
   "source": [
    "# range()\n",
    "\n",
    "# 主要功能是產生一個有順序數列的 iterable，基本上就是 list，不要忘了\n",
    "\n",
    "a = list(range(6))\n",
    "\n",
    "print(a)\n"
   ]
  },
  {
   "cell_type": "code",
   "execution_count": 2,
   "id": "25a22cfb",
   "metadata": {},
   "outputs": [
    {
     "name": "stdout",
     "output_type": "stream",
     "text": [
      "[]\n"
     ]
    }
   ],
   "source": [
    "# list comprehension 裡面可以再有 list comprehension , 是沒關係的\n",
    "\n",
    "import numpy\n",
    "\n",
    "array = numpy.array([[\"a\",2,3],[\"b\",5,6],[\"c\",8,9]])\n",
    "\n",
    "numeric_array = [index for index in range(array.shape[1]) if all([isinstance(item,(int,float)) for item in array[:,index]])]\n",
    "\n",
    "print(numeric_array)\n",
    "\n"
   ]
  },
  {
   "cell_type": "code",
   "execution_count": null,
   "id": "a28fc876",
   "metadata": {},
   "outputs": [],
   "source": [
    "# 有時候 布林值的 \" 非 \" 是用 not 而不是波浪號 ~\n",
    "\n",
    "import pandas\n",
    "\n",
    "# 這邊可以用 ~ \n",
    "\n",
    "data_column = [\"日期\",\"名稱\",\"收盤價\"]\n",
    "\n",
    "data_row = [[\"20250801\",\"aaa\",120],[\"20250802\",\"aaa\",float(\"Nan\")],[\"20250803\",\"aaa\", ],[\"20250804\",\"   \",150],[None,\"aaa\",160]]\n",
    "\n",
    "dataframe = pandas.DataFrame(data_row,columns=data_column)\n",
    "\n",
    "dataframe_string = dataframe.select_dtypes(include=\"object\")\n",
    "\n",
    "select_string = dataframe_string.columns\n",
    "\n",
    "for col in select_string : \n",
    "\n",
    "    dataframe = dataframe[~dataframe[col].str.strip().isin([\"\",None])]\n",
    "\n",
    "# 這邊就要用 not , 改成 ~ 會提示要改掉\n",
    "\n",
    "NaN_list = [1,\"\",\" \",float(\"NaN\"),None]\n",
    "\n",
    "NaN_list = [x for x in NaN_list if not (isinstance(x,str) and x.strip() == \"\")]\n",
    "\n"
   ]
  }
 ],
 "metadata": {
  "kernelspec": {
   "display_name": "base",
   "language": "python",
   "name": "python3"
  },
  "language_info": {
   "codemirror_mode": {
    "name": "ipython",
    "version": 3
   },
   "file_extension": ".py",
   "mimetype": "text/x-python",
   "name": "python",
   "nbconvert_exporter": "python",
   "pygments_lexer": "ipython3",
   "version": "3.13.5"
  }
 },
 "nbformat": 4,
 "nbformat_minor": 5
}
