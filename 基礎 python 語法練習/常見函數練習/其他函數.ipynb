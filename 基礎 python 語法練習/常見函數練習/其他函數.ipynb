{
 "cells": [
  {
   "cell_type": "code",
   "execution_count": 7,
   "id": "d439fb00",
   "metadata": {},
   "outputs": [
    {
     "name": "stdout",
     "output_type": "stream",
     "text": [
      "2\n",
      "[1, 3, 5]\n",
      "[nan, nan]\n",
      "[1, 3, 5]\n",
      "[1, 3, 5]\n"
     ]
    }
   ],
   "source": [
    "# 其他函數練習\n",
    "\n",
    "\n",
    "\n",
    "# 1. math.isna() , itertools.filterfalse() / filter()\n",
    "\n",
    "\n",
    "# isna() 是判斷是否為 NaN ( 數值類別 ) 的函數，會回傳布林值\n",
    "\n",
    "# filterfalse() / filter() 會針對 iterable 裡面的布林值去篩選 false / true 的，是類似 map() 的轉陣列型函數\n",
    "\n",
    "# 兩者結合就可以達到一般 iterable 的非 NaN 元素篩選\n",
    "\n",
    "# 如果是 numpy 或 pandas 基本上就用布林篩選就好，一般 list 也可以用 list comprehension，這邊是另一種作法選擇\n",
    "\n",
    "\n",
    "import math\n",
    "import itertools\n",
    "\n",
    "\n",
    "a = [1,float(\"NaN\"),3,float(\"NaN\"),5]\n",
    "\n",
    "# 可以用 map() + isnan() 來算非 nan 值的數量，sum 會加總布林陣列 true 的數量\n",
    "\n",
    "total = sum(map(math.isnan,a))\n",
    "\n",
    "print(total)\n",
    "\n",
    "# 用這邊的作法去掉 NaN 值\n",
    "\n",
    "b = list(itertools.filterfalse(math.isnan,a))\n",
    "\n",
    "print(b)\n",
    "\n",
    "# filter 是挑 true 的，所以只會剩 NaN\n",
    "\n",
    "b_2 = list(filter(math.isnan,a))\n",
    "\n",
    "print(b_2)\n",
    "\n",
    "# filterfalse 用 lambda 來做，可以用 or 條件\n",
    "\n",
    "b_3 = list(itertools.filterfalse(lambda x : math.isnan(x),a))\n",
    "\n",
    "# b_3 = list(itertools.filterfalse(lambda x : math.isnan(x) == True or x == \"\",a))\n",
    "\n",
    "print(b_3)\n",
    "\n",
    "# 用 list comprehension 來做\n",
    "\n",
    "c = [item for item in a if math.isnan(item) != True]\n",
    "\n",
    "print(c)\n",
    "\n"
   ]
  }
 ],
 "metadata": {
  "kernelspec": {
   "display_name": "base",
   "language": "python",
   "name": "python3"
  },
  "language_info": {
   "codemirror_mode": {
    "name": "ipython",
    "version": 3
   },
   "file_extension": ".py",
   "mimetype": "text/x-python",
   "name": "python",
   "nbconvert_exporter": "python",
   "pygments_lexer": "ipython3",
   "version": "3.13.5"
  }
 },
 "nbformat": 4,
 "nbformat_minor": 5
}
