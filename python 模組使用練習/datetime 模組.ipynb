{
 "cells": [
  {
   "cell_type": "code",
   "execution_count": null,
   "id": "6d2cfc79",
   "metadata": {},
   "outputs": [
    {
     "name": "stdout",
     "output_type": "stream",
     "text": [
      "2025-08-02 20:12:44.791699\n",
      "2025/08/02\n",
      "2025-08-02 00:00:00\n",
      "2025-08-02\n",
      "2025 8 2\n",
      "114/08/02\n"
     ]
    }
   ],
   "source": [
    "from datetime import datetime\n",
    "\n",
    "# 有到分秒的當下時間\n",
    "\n",
    "time = datetime.now()\n",
    "\n",
    "print(time)\n",
    "\n",
    "from datetime import date\n",
    "\n",
    "# 把日期轉成文字 ( * 模組產生的日期都是 datetime 型別，自己輸入的日期則都是字串 )\n",
    "\n",
    "string_date = time.strftime(\"%Y/%m/%d\")\n",
    "\n",
    "print(string_date)\n",
    "\n",
    "# 把文字轉成日期，以利日期運算\n",
    "\n",
    "datetime_date = datetime.strptime(string_date,\"%Y/%m/%d\")\n",
    "\n",
    "print(datetime_date)\n",
    "\n",
    "# 只有到日的當下時間\n",
    "\n",
    "date = date.today()\n",
    "\n",
    "year = date.year\n",
    "month = date.month\n",
    "day = date.day\n",
    "\n",
    "print (date)\n",
    "print(year,month,day)\n",
    "\n",
    "# 轉換日期的呈現格式 ( * 因為要民國年，所以沒有用 strftime 轉換 )\n",
    "\n",
    "new_format_date = f\"{year - 1911:03d}/{month:02d}/{day:02d}\"\n",
    "\n",
    "print(new_format_date)\n"
   ]
  }
 ],
 "metadata": {
  "kernelspec": {
   "display_name": "base",
   "language": "python",
   "name": "python3"
  },
  "language_info": {
   "codemirror_mode": {
    "name": "ipython",
    "version": 3
   },
   "file_extension": ".py",
   "mimetype": "text/x-python",
   "name": "python",
   "nbconvert_exporter": "python",
   "pygments_lexer": "ipython3",
   "version": "3.13.5"
  }
 },
 "nbformat": 4,
 "nbformat_minor": 5
}
