{
 "cells": [
  {
   "cell_type": "code",
   "execution_count": 1,
   "id": "767ef05c",
   "metadata": {},
   "outputs": [
    {
     "name": "stdout",
     "output_type": "stream",
     "text": [
      "d:\\Python\\python 模組使用練習\n",
      "['20250802.csv', 'write.csv', 'write_2.csv', 'write_3.csv', 'write_4.csv', 'write_5.csv', 'write_6.csv', 'write_7.csv']\n",
      "d:\\Python\\python 模組使用練習\\os , glob 模組.ipynb\n",
      "<class 'float'>\n",
      "1754136917.2735827\n",
      "1754235192.4863787\n",
      "['datetime 模組.ipynb', 'open . csv 模組.ipynb', 'os , glob 模組.ipynb']\n",
      "['d:\\\\Python\\\\python 模組使用練習\\\\datetime 模組.ipynb', 'd:\\\\Python\\\\python 模組使用練習\\\\open . csv 模組.ipynb', 'd:\\\\Python\\\\python 模組使用練習\\\\os , glob 模組.ipynb']\n",
      "[]\n"
     ]
    }
   ],
   "source": [
    "# os 模組為找出檔案路徑和其他檔案特徵的模組\n",
    "\n",
    "import os\n",
    "\n",
    "# 娶得當下執行檔案資料夾路徑\n",
    "\n",
    "path = os.getcwd()\n",
    "\n",
    "print(path)\n",
    "\n",
    "# 取得資料夾裡面所有檔案名稱\n",
    "\n",
    "content = os.listdir(\"data & output\")\n",
    "\n",
    "print(content)\n",
    "\n",
    "# 連接檔案形成完整路徑\n",
    "\n",
    "join_path = os.path.join(path,\"os , glob 模組.ipynb\")\n",
    "\n",
    "print(join_path)\n",
    "\n",
    "# 取得檔案的建立時間 ( * 輸出是 float 數字，不是 datetime 型別 )\n",
    "\n",
    "create_time = os.path.getctime(join_path)\n",
    "\n",
    "print(type(create_time))\n",
    "\n",
    "print(create_time)\n",
    "\n",
    "# 取得檔案的修改時間 ( * 輸出是 float 數字 )\n",
    "\n",
    "modify_time = os.path.getmtime(join_path)\n",
    "\n",
    "print(modify_time)\n",
    "\n",
    "# 於指定路徑下建立新資料夾\n",
    "\n",
    "os.makedirs(os.path.join(path,\"example\") , exist_ok=True)\n",
    "\n",
    "\n",
    "\n",
    "# glob 為搜尋檔案並產生檔名或完整檔案路徑 list 的模組 ( * 常常搭配萬用符號 * 來搜尋檔案 )\n",
    "\n",
    "import glob\n",
    "\n",
    "# 搜尋當下資料夾內的所有 .ipynb 檔案\n",
    "\n",
    "file = glob.glob(\"*.ipynb\")\n",
    "\n",
    "print(file)\n",
    "\n",
    "# 配合 os.path 搜尋指定路徑底下的特定檔案\n",
    "\n",
    "files = glob.glob(os.path.join(path,\"*.ipynb\"))\n",
    "\n",
    "print(files)\n",
    "\n",
    "# 配合 datetime 使用，找出檔名有今天日期的檔案\n",
    "\n",
    "import datetime\n",
    "\n",
    "date = datetime.date.today()\n",
    "\n",
    "string_date = date.strftime(\"%Y%m%d\")\n",
    "\n",
    "today_file = glob.glob(os.path.join(path,f\"*{string_date}*.csv\"))\n",
    "\n",
    "print(today_file)\n"
   ]
  }
 ],
 "metadata": {
  "kernelspec": {
   "display_name": "base",
   "language": "python",
   "name": "python3"
  },
  "language_info": {
   "codemirror_mode": {
    "name": "ipython",
    "version": 3
   },
   "file_extension": ".py",
   "mimetype": "text/x-python",
   "name": "python",
   "nbconvert_exporter": "python",
   "pygments_lexer": "ipython3",
   "version": "3.13.5"
  }
 },
 "nbformat": 4,
 "nbformat_minor": 5
}
