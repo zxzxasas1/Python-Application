{
 "cells": [
  {
   "cell_type": "code",
   "execution_count": null,
   "id": "e6e44af2",
   "metadata": {},
   "outputs": [
    {
     "name": "stdout",
     "output_type": "stream",
     "text": [
      "[['\\ufeffSeq', '年度', '家數', '實際住用客房數', '可供住用客房數', '住用率'], ['1', '2017', '12', '897389', '1443836', '62.15'], ['2', '2018', '12', '853837', '1502714', '56.82'], ['3', '2019', '11', '914766', '1387994', '65.91'], ['4', '2020', '10', '493418', '1192606', '41.37'], ['5', '2021', '11', '468923', '1442085', '32.52'], ['6', '2022', '11', '652625', '1441385', '45.28'], ['7', '2023', '10', '706827', '1284195', '55.04'], ['8', '2024', '10', '708812', '1276212', '55.54']]\n"
     ]
    }
   ],
   "source": [
    "# 使用 request , io 來將網路資料下載並讀取成 csv 格式資料\n",
    "\n",
    "\n",
    "\n",
    "# 1. requests 為網路傳輸資料的模組\n",
    "\n",
    "import requests\n",
    "\n",
    "# get 為取得網站回覆的需求，這邊是下載資料並接住\n",
    "\n",
    "response = requests.get(\"https://data.kcg.gov.tw/File/DirectDownload/d8e11066-81e7-44ee-963d-4fdc37055cfc\")\n",
    "\n",
    "# 獲得的資料可以用 text 直接解析為文字，預設是 utf-8 解析，如果要換要自己寫 response.encoding = ...\n",
    "\n",
    "# 如果回傳的是二進位資料，像是圖片、音樂、影片，可以用 content 來接住，再選擇甚麼方式解析\n",
    "\n",
    "response_text = response.text\n",
    "\n",
    "response_content = response.content\n",
    "\n",
    "# 這邊選擇用 content 並用 utf-8 解析成文字，因為是 csv 檔案\n",
    "\n",
    "response_content_decode = response_content.decode(\"utf-8\")\n",
    "\n",
    "\n",
    "\n",
    "# 2. 解析完之後因為是一群文字，需要再用 io 的 StringIO 模擬成文字檔案，這樣才能給 csv.reader 這類讀檔案的方法讀取 \n",
    "\n",
    "# ( 不然就是要用 open 函數開檔案同樣變成檔案物件，才能給 csv.reader 這類函數讀取 ) \n",
    "\n",
    "# 否則直接讀會變成 csv_reader 把字串當成 list 做 csv 方式的迭帶讀取，依照每個字元造訪，導致字串的一個一個字元就是一個 list\n",
    "\n",
    "import io\n",
    "import csv \n",
    "\n",
    "io_file = io.StringIO(response_content_decode)\n",
    "\n",
    "csv_file = csv.reader(io_file)\n",
    "\n",
    "# 一個小技巧，針對可以迭帶的物件，可以用 list 轉型變成可以直接看到內容，不然就得要透過迴圈來看\n",
    "\n",
    "csv_file_list = list(csv_file)\n",
    "\n",
    "print(csv_file_list)\n",
    "\n",
    "\n",
    "\n",
    "\n",
    "\n"
   ]
  }
 ],
 "metadata": {
  "kernelspec": {
   "display_name": "base",
   "language": "python",
   "name": "python3"
  },
  "language_info": {
   "codemirror_mode": {
    "name": "ipython",
    "version": 3
   },
   "file_extension": ".py",
   "mimetype": "text/x-python",
   "name": "python",
   "nbconvert_exporter": "python",
   "pygments_lexer": "ipython3",
   "version": "3.13.5"
  }
 },
 "nbformat": 4,
 "nbformat_minor": 5
}
