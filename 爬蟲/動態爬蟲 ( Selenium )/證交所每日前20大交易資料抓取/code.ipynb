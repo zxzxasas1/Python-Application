{
 "cells": [
  {
   "cell_type": "code",
   "execution_count": null,
   "id": "5658fb3e",
   "metadata": {},
   "outputs": [
    {
     "name": "stdout",
     "output_type": "stream",
     "text": [
      "                                                    0\n",
      "0   排名 證券代號 證券名稱 成交股數 成交筆數 開盤價 最高價 最低價 收盤價 漲跌(+/-)...\n",
      "1   1 1802 台玻 258,815,942 80,459 23.65 25.50 23.50...\n",
      "2   2 1303 南亞 147,581,228 61,089 39.80 41.70 39.45...\n",
      "3   3 8021 尖點 103,394,657 60,008 61.90 69.00 61.80...\n",
      "4   4 0050 元大台灣50 103,281,333 89,437 50.80 51.20 5...\n",
      "5   5 1504 東元 96,068,632 45,135 54.40 56.10 53.80 ...\n",
      "6   6 00919 群益台灣精選高息 87,611,654 37,726 21.03 21.35...\n",
      "7   7 00878 國泰永續高股息 81,124,835 42,166 20.80 21.05 ...\n",
      "8   8 2887 台新金 75,770,937 13,778 16.20 16.45 16.15...\n",
      "9   9 00982A 主動群益台灣強棒 69,889,634 6,821 11.59 11.84...\n",
      "10  10 00632R 元大台灣50反1 67,397,939 7,242 20.80 20.8...\n",
      "11  11 2317 鴻海 65,361,707 51,454 175.00 181.50 175...\n",
      "12  12 2027 大成鋼 65,146,024 29,347 39.00 39.70 38.0...\n",
      "13  13 00981A 主動統一台股增長 57,805,708 8,292 11.85 12.1...\n",
      "14  14 3715 定穎投控 57,369,468 68,450 77.30 86.90 77....\n",
      "15  15 2887I 台新辛特 55,529,467 4,197 8.94 9.06 8.93 ...\n",
      "16  16 00637L 元大滬深300正2 50,785,562 6,159 15.96 16....\n",
      "17  17 1301 台塑 50,445,289 27,806 41.80 42.25 40.60...\n",
      "18  18 3481 群創 49,891,017 11,260 11.40 11.45 11.25...\n",
      "19  19 4916 事欣科 49,176,384 30,842 55.00 60.50 54.7...\n",
      "20  20 3706 神達 49,034,708 30,164 75.00 78.50 74.60...\n"
     ]
    }
   ],
   "source": [
    "# 用 selenium 方法來抓取證交所當天前 20 大成交量標的的資料\n",
    "\n",
    "from selenium import webdriver\n",
    "from selenium.webdriver.common.by import By\n",
    "from selenium.webdriver.common.keys import Keys\n",
    "from selenium.webdriver.support.ui import WebDriverWait\n",
    "from selenium.webdriver.support import expected_conditions\n",
    "import pandas\n",
    "\n",
    "driver = webdriver.Chrome()\n",
    "\n",
    "driver.get(\"https://www.twse.com.tw/zh/trading/historical/mi-stock20.html\")\n",
    "\n",
    "wait = WebDriverWait(driver,5)\n",
    "wait.until(expected_conditions.presence_of_element_located((By.ID,\"reports\")))\n",
    "\n",
    "content = driver.find_element(By.TAG_NAME,\"table\")\n",
    "\n",
    "rows = content.find_elements(By.TAG_NAME,\"tr\")\n",
    "\n",
    "data = [row.text for row in rows]\n",
    "\n",
    "result = pandas.DataFrame(data)\n",
    "\n",
    "print(result)\n",
    "\n",
    "result.to_csv(\"output.csv\",index=False)\n"
   ]
  },
  {
   "cell_type": "code",
   "execution_count": null,
   "id": "76564b2d",
   "metadata": {},
   "outputs": [],
   "source": [
    "# 另外一種做法，用 selenium 點選下載按鈕並下載 csv 檔，並額外使用 glob , os , pandas 模組，抓取下載資料路徑並讀取出來\n",
    "\n",
    "from selenium import webdriver\n",
    "from selenium.webdriver.common.by import By\n",
    "from selenium.webdriver.common.keys import Keys\n",
    "from selenium.webdriver.support.ui import WebDriverWait\n",
    "from selenium.webdriver.support import expected_conditions\n",
    "import glob\n",
    "import os\n",
    "import time\n",
    "import pandas\n",
    "\n",
    "driver = webdriver.Chrome()\n",
    "\n",
    "driver.get(\"https://www.twse.com.tw/zh/trading/historical/mi-stock20.html\")\n",
    "\n",
    "wait = WebDriverWait(driver,10)\n",
    "wait.until(expected_conditions.presence_of_element_located((By.CLASS_NAME,\"csv\")))\n",
    "\n",
    "content = driver.find_element(By.CLASS_NAME,\"csv\")\n",
    "\n",
    "content.click()\n",
    "\n",
    "time.sleep(5)\n",
    "\n",
    "directory = \"C:/Users/zxzxa/Downloads\"\n",
    "\n",
    "files = glob.glob(os.path.join(directory,\"*.csv\"))\n",
    "\n",
    "latest_file = max(files,key=os.path.getctime)\n",
    "\n",
    "csv = pandas.read_csv(latest_file,encoding=\"big5\")\n",
    "\n",
    "print(csv)"
   ]
  }
 ],
 "metadata": {
  "kernelspec": {
   "display_name": "base",
   "language": "python",
   "name": "python3"
  },
  "language_info": {
   "codemirror_mode": {
    "name": "ipython",
    "version": 3
   },
   "file_extension": ".py",
   "mimetype": "text/x-python",
   "name": "python",
   "nbconvert_exporter": "python",
   "pygments_lexer": "ipython3",
   "version": "3.13.5"
  }
 },
 "nbformat": 4,
 "nbformat_minor": 5
}
