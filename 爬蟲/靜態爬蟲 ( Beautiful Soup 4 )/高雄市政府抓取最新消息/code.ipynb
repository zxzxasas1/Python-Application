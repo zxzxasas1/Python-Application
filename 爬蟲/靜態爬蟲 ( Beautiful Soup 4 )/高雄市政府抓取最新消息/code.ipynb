{
 "cells": [
  {
   "cell_type": "code",
   "execution_count": 1,
   "id": "396492a4",
   "metadata": {},
   "outputs": [
    {
     "name": "stdout",
     "output_type": "stream",
     "text": [
      "[{'標題': '有關媒體報導高市翠華路拓寬後人行道被刪除造成行人危險，工務局新工處澄清說明', '發布單位': '高雄市政府工務局新建工程處', '發布時間': '114-08-08'}, {'標題': '亞灣新光園道改善預計8月完工\\u3000提升休憩及景觀環境', '發布單位': '公園處景觀工程科', '發布時間': '114-08-08'}, {'標題': '高雄市爭取0728豪雨致災第二波農損救助8/6起受理', '發布單位': '高雄市政府農業局', '發布時間': '114-08-08'}, {'標題': '鳳山中華街商圈「藍脈流光」三大展區8月9日開展! 30攤品牌市集齊聚曹公圳畔浪漫登場', '發布單位': '高雄市政府經濟發展局', '發布時間': '114-08-08'}, {'標題': '高雄市梓官區中崙路113巷（中崙路53巷口至中崙路113巷107- 2號），於8月13日進行路面改善工程，敬請行經車輛提前改道並注意行車安全', '發布單位': '高雄市政府工務局道路養護工程處', '發布時間': '114-08-07'}, {'標題': '高雄市梓官區中崙路53巷（新舊路面至三叉路口），於8月13日進行路面改善工程，敬請行經車輛提前改道並注意行車安全', '發布單位': '高雄市政府工務局道路養護工程處', '發布時間': '114-08-07'}, {'標題': '橋頭橋新一路路面翻新 提升區域行車安全', '發布單位': '高雄市政府工務局道路養護工程處', '發布時間': '114-08-07'}, {'標題': '高雄市左營區安吉街，於114年8月13日至14日進行路面刨鋪改善工程，敬請行經車輛提前改道並注意行車安全', '發布單位': '高雄市政府工務局道路養護工程處', '發布時間': '114-08-07'}, {'標題': '高雄市彌陀區中正南路1巷（中正西路至中正南路），於114年8月13日進行路面改善工程，敬請行經車輛提前改道並注意行車安全', '發布單位': '高雄市政府工務局道路養護工程處', '發布時間': '114-08-07'}, {'標題': '高雄市彌陀區中山路（中正路至中正西路），於114年8月12日進行路面改善工程，敬請行經車輛提前改道並注意行車安全', '發布單位': '高雄市政府工務局道路養護工程處', '發布時間': '114-08-07'}, {'標題': '高雄市彌陀區中正西路，於114年8月11日至12日進行路面刨鋪改善工程，敬請行經車輛提前改道並注意行車安全', '發布單位': '高雄市政府工務局道路養護工程處', '發布時間': '114-08-07'}, {'標題': '高雄市彌陀區文安路（產業路至文安路22號），於114年8月8日進行路面改善工程，敬請行經車輛提前改道並注意行車安全', '發布單位': '高雄市政府工務局道路養護工程處', '發布時間': '114-08-07'}, {'標題': '本府114年度第1批代為標售地籍清理未能釐清權屬土地開標結果', '發布單位': '高雄市政府地政局', '發布時間': '114-08-07'}, {'標題': '受連日豪雨影響，山區部分路段搶修中尚未開放通行，本市部分公車路線營運調整', '發布單位': '高雄市政府交通局', '發布時間': '114-08-06'}, {'標題': '受到低壓帶及西南風影響，高雄市桃源區8/6停班停課，本市部分公車路線停駛，其餘路線正常行駛', '發布單位': '高雄市政府交通局', '發布時間': '114-08-05'}, {'標題': '轉知行政院主計總處114年8月各機關辦理統計調查一覽表，提供市民查詢。', '發布單位': '高雄市政府主計處', '發布時間': '114-08-05'}, {'標題': '高雄市成功爭取桃源、茂林、那瑪夏、六龜、甲仙區豪雨農損全品項（稻米除外）及森林副產物（竹筍）現金救助 自8月1日起受理申請', '發布單位': '高雄市政府農業局', '發布時間': '114-08-05'}, {'標題': '高雄市爭取丹娜絲颱風致災第六波農損救助7/31起受理', '發布單位': '高雄市政府農業局', '發布時間': '114-08-05'}, {'標題': '高雄市豪雨後蕈菇速長，市府團隊一體立即防範 ', '發布單位': '', '發布時間': '114-08-05'}, {'標題': '豪雨過後 工務局道路加速搶通及修鋪', '發布單位': '高雄市政府工務局道路養護工程處', '發布時間': '114-08-05'}]\n"
     ]
    }
   ],
   "source": [
    "import requests\n",
    "from bs4 import BeautifulSoup\n",
    "import pandas\n",
    "\n",
    "response = requests.get(\"https://www.kcg.gov.tw/News.aspx?n=F29A02A9D36C47F0&sms=19902EF36D6B551D\")\n",
    "\n",
    "content = response.text\n",
    "\n",
    "parser = BeautifulSoup(content,\"html.parser\")\n",
    "\n",
    "select = parser.select(\"#movie-table > tbody > tr\")\n",
    "\n",
    "data = []\n",
    "\n",
    "for item in select : \n",
    "\n",
    "    title = item.select_one(\"td:nth-child(1) > p > a\").getText()\n",
    "\n",
    "    unit = item.select_one(\"td:nth-child(2) > p\").getText()\n",
    "\n",
    "    time = item.select_one(\"td:nth-child(3) > p\").getText()\n",
    "\n",
    "    row = { \n",
    "\n",
    "        \"標題\" : title,\n",
    "        \"發布單位\" : unit,\n",
    "        \"發布時間\" : time\n",
    "\n",
    "     }\n",
    "\n",
    "    data.append(row)\n",
    "\n",
    "print(data)\n",
    "\n",
    "result = pandas.DataFrame(data)\n",
    "\n",
    "result.to_csv(\"output.csv\",index=False)\n"
   ]
  },
  {
   "cell_type": "code",
   "execution_count": null,
   "id": "8d5536cf",
   "metadata": {},
   "outputs": [],
   "source": [
    "# 測試 Beautiful 是否能用於使用 Ajax 回傳資料的動態網頁，結果是不行\n",
    "\n",
    "import requests\n",
    "from bs4 import BeautifulSoup\n",
    "\n",
    "response = requests.get(\"https://24h.pchome.com.tw/replenish/\")\n",
    "\n",
    "content = response.text\n",
    "\n",
    "parser = BeautifulSoup(content,\"html.parser\")\n",
    "\n",
    "result = parser.select(\"#ItemContainer > dd\")\n",
    "\n",
    "for item in result : \n",
    "\n",
    "    title = item.select_one(\"h5 > a\").getText()\n",
    "    \n",
    "    print(title)\n",
    "\n",
    "    price = item.select_one(\"ul > li > a > span > span\").getText()\n",
    "\n",
    "    print(price)"
   ]
  }
 ],
 "metadata": {
  "kernelspec": {
   "display_name": "base",
   "language": "python",
   "name": "python3"
  },
  "language_info": {
   "codemirror_mode": {
    "name": "ipython",
    "version": 3
   },
   "file_extension": ".py",
   "mimetype": "text/x-python",
   "name": "python",
   "nbconvert_exporter": "python",
   "pygments_lexer": "ipython3",
   "version": "3.13.5"
  }
 },
 "nbformat": 4,
 "nbformat_minor": 5
}
