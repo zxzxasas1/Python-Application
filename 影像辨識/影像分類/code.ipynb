{
 "cells": [
  {
   "cell_type": "code",
   "execution_count": null,
   "id": "d83b5df3",
   "metadata": {},
   "outputs": [],
   "source": [
    "# 傳統 HOG + SVM 來對 NMIST 手寫數字資料集進行區分\n",
    "\n",
    "\n",
    "import cv2\n",
    "import numpy\n",
    "import matplotlib.pyplot as plt\n",
    "\n",
    "\n"
   ]
  }
 ],
 "metadata": {
  "language_info": {
   "name": "python"
  }
 },
 "nbformat": 4,
 "nbformat_minor": 5
}
