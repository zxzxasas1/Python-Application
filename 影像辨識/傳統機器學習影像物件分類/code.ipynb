{
 "cells": [
  {
   "cell_type": "code",
   "execution_count": null,
   "id": "d83b5df3",
   "metadata": {},
   "outputs": [],
   "source": [
    "# 傳統 HOG + SVM 人工特徵提取 + 機器學習模型 來對 NMIST 手寫數字資料集進行分類\n",
    "\n",
    "\n",
    "import cv2\n",
    "import numpy\n",
    "import matplotlib.pyplot as plt\n",
    "\n",
    "\n"
   ]
  }
 ],
 "metadata": {
  "language_info": {
   "name": "python"
  }
 },
 "nbformat": 4,
 "nbformat_minor": 5
}
