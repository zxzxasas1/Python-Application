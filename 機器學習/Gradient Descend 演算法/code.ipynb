{
 "cells": [
  {
   "cell_type": "code",
   "execution_count": null,
   "id": "0574f80a",
   "metadata": {},
   "outputs": [],
   "source": [
    "# Gradient Descend 演算法"
   ]
  }
 ],
 "metadata": {
  "language_info": {
   "name": "python"
  }
 },
 "nbformat": 4,
 "nbformat_minor": 5
}
