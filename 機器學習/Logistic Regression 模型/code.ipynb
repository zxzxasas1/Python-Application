{
 "cells": [
  {
   "cell_type": "code",
   "execution_count": null,
   "id": "c308777a",
   "metadata": {},
   "outputs": [],
   "source": [
    "# 利用 Logistic Regression 模型來區分資料成兩類\n",
    "\n",
    "\n",
    "\n",
    "# Logistic Regression 特性 : \n",
    "\n",
    "# 1. 本身具有機率的成分，不光是預測是哪個類別，而是預測該類別的 \" 機率 \"\n",
    "\n",
    "# 2. 雖然轉換成機率的 Sigmoid 函數是非線性，但本身模型還是 ax + b 線性，所以算線性模型，比較適合線性資料\n",
    "\n",
    "# 3. 是 ANN 類神經網路裡面一個神經元 , 函數是 Sigmoid 機率函數的特例\n",
    "\n",
    "\n",
    "\n"
   ]
  }
 ],
 "metadata": {
  "language_info": {
   "name": "python"
  }
 },
 "nbformat": 4,
 "nbformat_minor": 5
}
