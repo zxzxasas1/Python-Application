{
 "cells": [
  {
   "cell_type": "code",
   "execution_count": null,
   "id": "bedbf7b3",
   "metadata": {},
   "outputs": [
    {
     "name": "stdout",
     "output_type": "stream",
     "text": [
      "0.8933333333333333\n"
     ]
    },
    {
     "name": "stderr",
     "output_type": "stream",
     "text": [
      "c:\\Users\\zxzxa\\anaconda3\\Lib\\site-packages\\sklearn\\cluster\\_kmeans.py:1419: UserWarning: KMeans is known to have a memory leak on Windows with MKL, when there are less chunks than available threads. You can avoid it by setting the environment variable OMP_NUM_THREADS=1.\n",
      "  warnings.warn(\n"
     ]
    }
   ],
   "source": [
    "# 用 K-means 演算法來分類鳶尾花\n",
    "\n",
    "from sklearn.datasets import load_iris\n",
    "from sklearn.cluster import KMeans\n",
    "from sklearn.metrics import accuracy_score\n",
    "import numpy\n",
    "\n",
    "\n",
    "# 1. 先載入鳶尾花資料\n",
    "\n",
    "iris = load_iris()\n",
    "\n",
    "# 這邊 iris 是 sklearn 的 bunch 物件，基本上就是字典，可以用屬性或中括號呼叫值\n",
    "\n",
    "# 字典裡的樣本資料 x , y 會是 numpy 的陣列\n",
    "\n",
    "x = iris[\"data\"]\n",
    "y = iris[\"target\"]\n",
    "\n",
    "\n",
    "# 2. 進行 K-means 分類，用 x 即可\n",
    "\n",
    "# 先創建物件，和同樣 sklearn 的 Linear Regression 一樣\n",
    "\n",
    "# random_state 是隨機種子，為隨機選取的分布依據\n",
    "\n",
    "# n_init 為試行的次數，每次都以不同中心點開始，並取最小距離平方和的結果，避免有局部最小值的可能\n",
    "\n",
    "model = KMeans(n_clusters=3,random_state=42,n_init=10)\n",
    "\n",
    "# 再用資料跑模型\n",
    "\n",
    "model.fit(x)\n",
    "\n",
    "\n",
    "# 3. 找到分類結果，用得到模型的 labels 屬性\n",
    "\n",
    "y_prediction = model.labels_\n",
    "\n",
    "\n",
    "# 4. 因為 K-means 分類結果的類別代碼和原本的樣本分類代碼不見得一樣，所以要重新 map 分類結果的代碼來和原本樣本一樣\n",
    "\n",
    "# 先創建一個和原本資料分類結果一樣大小的陣列 ( zero_like 是建立一個一樣大小的陣列，裡面都放 0 )\n",
    "\n",
    "y_map = numpy.zeros_like(y)\n",
    "\n",
    "# 用布林遮罩來選取類別分別是 0 , 1 , 2 的模型分類結果，再用樣本資料分類結果的眾數來代表模型分類出的類別的真正代碼\n",
    "\n",
    "# 用 scipy.stats 的 mode，會回傳一個 tuple 有兩個值，第一個是眾數，第二個是數字是眾數的次數\n",
    "\n",
    "from scipy.stats import mode\n",
    "\n",
    "for i in range(3) : \n",
    "\n",
    "    y_map[y_prediction == i] = mode(y[y_prediction==i])[0]\n",
    "\n",
    "\n",
    "# 5. 把 y_prediction map 完的 y_map 作為正確分群代碼的預測值 y 來產生準確度\n",
    "\n",
    "print(accuracy_score(y,y_map))\n",
    "\n",
    "\n"
   ]
  }
 ],
 "metadata": {
  "kernelspec": {
   "display_name": "base",
   "language": "python",
   "name": "python3"
  },
  "language_info": {
   "codemirror_mode": {
    "name": "ipython",
    "version": 3
   },
   "file_extension": ".py",
   "mimetype": "text/x-python",
   "name": "python",
   "nbconvert_exporter": "python",
   "pygments_lexer": "ipython3",
   "version": "3.13.5"
  }
 },
 "nbformat": 4,
 "nbformat_minor": 5
}
